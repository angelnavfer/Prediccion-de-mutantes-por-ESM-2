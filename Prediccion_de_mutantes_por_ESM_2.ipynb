{
  "nbformat": 4,
  "nbformat_minor": 0,
  "metadata": {
    "colab": {
      "provenance": [],
      "authorship_tag": "ABX9TyOPAbRAeVxVLWO+8zO0s3do",
      "include_colab_link": true
    },
    "kernelspec": {
      "name": "python3",
      "display_name": "Python 3"
    },
    "language_info": {
      "name": "python"
    }
  },
  "cells": [
    {
      "cell_type": "markdown",
      "metadata": {
        "id": "view-in-github",
        "colab_type": "text"
      },
      "source": [
        "<a href=\"https://colab.research.google.com/github/angelnavfer/Prediccion-de-mutantes-por-ESM-2/blob/main/Prediccion_de_mutantes_por_ESM_2.ipynb\" target=\"_parent\"><img src=\"https://colab.research.google.com/assets/colab-badge.svg\" alt=\"Open In Colab\"/></a>"
      ]
    },
    {
      "cell_type": "code",
      "source": [
        "!pip install fair-esm\n",
        "\n",
        "import torch\n",
        "import esm\n",
        "import pandas as pd\n",
        "from tqdm import tqdm\n",
        "\n",
        "# Cargar el modelo ESM-2\n",
        "model, alphabet = esm.pretrained.esm2_t33_650M_UR50D()\n",
        "batch_converter = alphabet.get_batch_converter()\n",
        "model.eval()\n",
        "device = torch.device(\"cuda\" if torch.cuda.is_available() else \"cpu\")\n",
        "model = model.to(device)\n",
        "\n",
        "# Determinar la sencuencia de LuxR\n",
        "WT_SEQ = (\n",
        "    \"MKNINADDTYRIINKIKACRSNNDINQCLSDMTKMVHCEYYLLAIIYPHSMVKSDISILDNYPKKWRQYYDDANLIKYDPIVDYSNSNHSPINWNIFENNAVNKKSPNVIKEAKTSGLITGFSFPIHTANNGFGMLSFAHSEKDNYIDSLFLHACMNIPLIVPSLVDNYRKINIANNKSNNDLTKREKECLAWACEGKSSWDISKILGCSERTVTFHLTNAQMKLNTTNRCQSISKAILTGAIDCPYFKN\"\n",
        ")\n",
        "mut_range_start, mut_range_end = 175, 240  # 0-based\n",
        "AMINO_ACIDS = list(\"ACDEFGHIKLMNPQRSTVWY\")\n",
        "\n",
        "# Generar todos los mutantes simples\n",
        "mutant_data = []\n",
        "for pos in range(mut_range_start, mut_range_end + 1):\n",
        "    wt_aa = WT_SEQ[pos]\n",
        "    for aa in AMINO_ACIDS:\n",
        "        label = f\"{wt_aa}{pos+1}{aa}\"\n",
        "        seq = list(WT_SEQ)\n",
        "        seq[pos] = aa\n",
        "        mutant_data.append((label, \"\".join(seq)))\n",
        "\n",
        "print(f\"✅ Generated {len(mutant_data)} single mutants (with WT included).\")\n",
        "\n",
        "# Establecer la función de puntuaje\n",
        "def score_sequence(seq):\n",
        "    data = [(\"mutant\", seq)]\n",
        "    batch_labels, batch_strs, batch_tokens = batch_converter(data)\n",
        "    batch_tokens = batch_tokens.to(device)\n",
        "    with torch.no_grad():\n",
        "        logits = model(batch_tokens)[\"logits\"]\n",
        "    log_probs = torch.log_softmax(logits, dim=-1)\n",
        "    true_tokens = batch_tokens[:, 1:]\n",
        "    log_probs_for_true = log_probs[:, :-1, :].gather(2, true_tokens.unsqueeze(-1)).squeeze(-1)\n",
        "    return log_probs_for_true.sum(dim=1).item()\n",
        "\n",
        "# Puntuar todos los mutantes\n",
        "scored_mutants = []\n",
        "print(\"🧠 Scoring all single mutants...\")\n",
        "for label, seq in tqdm(mutant_data, desc=\"Scoring\"):\n",
        "    score = score_sequence(seq)\n",
        "    scored_mutants.append((label, seq, score))\n",
        "\n",
        "# Ordenar y guardar los resultados\n",
        "df = pd.DataFrame(scored_mutants, columns=[\"Mutant\", \"Sequence\", \"Score\"])\n",
        "df.sort_values(by=\"Score\", ascending=False, inplace=True)\n",
        "df.to_csv(\"single_mutants_scored.csv\", index=False)\n",
        "\n",
        "print(\"\\n📁 Saved: 'single_mutants_scored.csv'\")\n",
        "print(df.head(10))\n"
      ],
      "metadata": {
        "colab": {
          "base_uri": "https://localhost:8080/"
        },
        "id": "AaWSzxsDNjlV",
        "outputId": "ad4ca766-fd8e-4672-a834-e188cfd0cd4d"
      },
      "execution_count": null,
      "outputs": [
        {
          "metadata": {
            "tags": null
          },
          "name": "stdout",
          "output_type": "stream",
          "text": [
            "Requirement already satisfied: fair-esm in /usr/local/lib/python3.11/dist-packages (2.0.0)\n",
            "✅ Generated 1320 single mutants (with WT included).\n",
            "🧠 Scoring all single mutants...\n"
          ]
        },
        {
          "output_type": "stream",
          "name": "stderr",
          "text": [
            "Scoring: 100%|██████████| 1320/1320 [2:38:41<00:00,  7.21s/it]"
          ]
        },
        {
          "output_type": "stream",
          "name": "stdout",
          "text": [
            "\n",
            "📁 Saved: 'single_mutants_scored.csv'\n",
            "     Mutant                                           Sequence        Score\n",
            "723   R212E  MKNINADDTYRIINKIKACRSNNDINQCLSDMTKMVHCEYYLLAII... -1485.180054\n",
            "449   K198L  MKNINADDTYRIINKIKACRSNNDINQCLSDMTKMVHCEYYLLAII... -1485.360840\n",
            "1149  S233L  MKNINADDTYRIINKIKACRSNNDINQCLSDMTKMVHCEYYLLAII... -1486.327393\n",
            "459   K198Y  MKNINADDTYRIINKIKACRSNNDINQCLSDMTKMVHCEYYLLAII... -1486.977051\n",
            "444   K198F  MKNINADDTYRIINKIKACRSNNDINQCLSDMTKMVHCEYYLLAII... -1487.055054\n",
            "267   E189I  MKNINADDTYRIINKIKACRSNNDINQCLSDMTKMVHCEYYLLAII... -1487.228271\n",
            "814   F216R  MKNINADDTYRIINKIKACRSNNDINQCLSDMTKMVHCEYYLLAII... -1487.335205\n",
            "816   F216T  MKNINADDTYRIINKIKACRSNNDINQCLSDMTKMVHCEYYLLAII... -1487.664429\n",
            "283   C190E  MKNINADDTYRIINKIKACRSNNDINQCLSDMTKMVHCEYYLLAII... -1487.914062\n",
            "287   C190I  MKNINADDTYRIINKIKACRSNNDINQCLSDMTKMVHCEYYLLAII... -1488.728516\n"
          ]
        },
        {
          "output_type": "stream",
          "name": "stderr",
          "text": [
            "\n"
          ]
        }
      ]
    },
    {
      "cell_type": "code",
      "source": [
        "# Cargar el archivo .CSV\n",
        "df = pd.read_csv(\"single_mutants_scored.csv\")\n",
        "\n",
        "# Guardar el archivo FASTA\n",
        "with open(\"single_mutants_scored.fasta\", \"w\") as f:\n",
        "    for _, row in df.iterrows():\n",
        "        header = f\">{row['Mutant']}|Score:{row['Score']:.2f}\"\n",
        "        sequence = row['Sequence']\n",
        "        f.write(f\"{header}\\n{sequence}\\n\")\n",
        "\n",
        "print(\"FASTA saved as 'single_mutants_scored.fasta'\")"
      ],
      "metadata": {
        "colab": {
          "base_uri": "https://localhost:8080/"
        },
        "id": "DVRsGCpz2IkF",
        "outputId": "a799d022-ca84-4530-faa3-4f79b6bc214f"
      },
      "execution_count": null,
      "outputs": [
        {
          "output_type": "stream",
          "name": "stdout",
          "text": [
            "FASTA saved as 'single_mutants_scored.fasta'\n"
          ]
        }
      ]
    },
    {
      "cell_type": "code",
      "source": [
        "import torch\n",
        "import esm\n",
        "import pandas as pd\n",
        "\n",
        "# Volver a cargar el modelo ESM-2\n",
        "model, alphabet = esm.pretrained.esm2_t33_650M_UR50D()\n",
        "batch_converter = alphabet.get_batch_converter()\n",
        "model.eval()\n",
        "device = torch.device(\"cuda\" if torch.cuda.is_available() else \"cpu\")\n",
        "model = model.to(device)\n",
        "\n",
        "# Volver a determinar la secuencia de LuxR\n",
        "WT_SEQ = (\n",
        "    \"MKNINADDTYRIINKIKACRSNNDINQCLSDMTKMVHCEYYLLAIIYPHSMVKSDISILDNYPKKWRQYYDDANLIKYDPIVDYSNSNHSPINWNIFENNAVNKKSPNVIKEAKTSGLITGFSFPIHTANNGFGMLSFAHSEKDNYIDSLFLHACMNIPLIVPSLVDNYRKINIANNKSNNDLTKREKECLAWACEGKSSWDISKILGCSERTVTFHLTNAQMKLNTTNRCQSISKAILTGAIDCPYFKN\"\n",
        ")\n",
        "\n",
        "# Definir la función de puntuaje\n",
        "def score_sequence(seq):\n",
        "    data = [(\"sequence\", seq)]\n",
        "    _, _, batch_tokens = batch_converter(data)\n",
        "    batch_tokens = batch_tokens.to(device)\n",
        "    with torch.no_grad():\n",
        "        logits = model(batch_tokens)[\"logits\"]\n",
        "    log_probs = torch.log_softmax(logits, dim=-1)\n",
        "    true_tokens = batch_tokens[:, 1:]\n",
        "    log_probs_for_true = log_probs[:, :-1, :].gather(2, true_tokens.unsqueeze(-1)).squeeze(-1)\n",
        "    return log_probs_for_true.sum(dim=1).item()\n",
        "\n",
        "# Puntuar a la variante WT\n",
        "wt_score = score_sequence(WT_SEQ)\n",
        "print(f\"✅ WT Score: {wt_score:.2f}\")\n",
        "\n",
        "# Cargar las puntuaciones asociadas a los mutantes previamente guardadas en formato .CSV\n",
        "df = pd.read_csv(\"single_mutants_scored.csv\")\n",
        "\n",
        "# Calcular las diferencias de puntuación entre los mutantes y la variante silvestre\n",
        "df[\"DeltaScore\"] = df[\"Score\"] - wt_score\n",
        "\n",
        "# 7. Ordenar y guardar un nuevo .CSV\n",
        "df.sort_values(by=\"DeltaScore\", ascending=False, inplace=True)\n",
        "df.to_csv(\"single_mutants_scored_delta.csv\", index=False)\n",
        "print(\"📁 Updated CSV saved as 'single_mutants_scored_delta.csv'\")\n",
        "\n",
        "# 8. Guardar los resultados en formato .FASTA\n",
        "with open(\"single_mutants_scored_delta.fasta\", \"w\") as f:\n",
        "    for _, row in df.iterrows():\n",
        "        header = f\">{row['Mutant']}|ΔScore:{row['DeltaScore']:.2f}\"\n",
        "        f.write(f\"{header}\\n{row['Sequence']}\\n\")\n",
        "print(\"📄 FASTA file with delta scores saved as 'single_mutants_scored_delta.fasta'\")"
      ],
      "metadata": {
        "colab": {
          "base_uri": "https://localhost:8080/"
        },
        "id": "9XEbM7kFG1sS",
        "outputId": "0bb68cff-336c-46bf-ae07-87dbe4abc26f"
      },
      "execution_count": null,
      "outputs": [
        {
          "output_type": "stream",
          "name": "stdout",
          "text": [
            "✅ WT Score: -1507.66\n",
            "📁 Updated CSV saved as 'single_mutants_scored_delta.csv'\n",
            "📄 FASTA file with delta scores saved as 'single_mutants_scored_delta.fasta'\n"
          ]
        }
      ]
    }
  ]
}