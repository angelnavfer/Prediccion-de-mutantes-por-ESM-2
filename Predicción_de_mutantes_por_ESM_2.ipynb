{
  "nbformat": 4,
  "nbformat_minor": 0,
  "metadata": {
    "colab": {
      "provenance": [],
      "authorship_tag": "ABX9TyNR/3wNRF2y0zlXoh1CXG10",
      "include_colab_link": true
    },
    "kernelspec": {
      "name": "python3",
      "display_name": "Python 3"
    },
    "language_info": {
      "name": "python"
    }
  },
  "cells": [
    {
      "cell_type": "markdown",
      "metadata": {
        "id": "view-in-github",
        "colab_type": "text"
      },
      "source": [
        "<a href=\"https://colab.research.google.com/github/angelnavfer/Prediccion-de-mutantes-por-ESM-2/blob/main/Predicci%C3%B3n_de_mutantes_por_ESM_2.ipynb\" target=\"_parent\"><img src=\"https://colab.research.google.com/assets/colab-badge.svg\" alt=\"Open In Colab\"/></a>"
      ]
    },
    {
      "cell_type": "code",
      "source": [
        "!pip install fair-esm\n",
        "\n",
        "import torch\n",
        "import esm\n",
        "import pandas as pd\n",
        "from tqdm import tqdm\n",
        "\n",
        "# Cargar el modelo ESM-2\n",
        "model, alphabet = esm.pretrained.esm2_t33_650M_UR50D()\n",
        "batch_converter = alphabet.get_batch_converter()\n",
        "model.eval()\n",
        "device = torch.device(\"cuda\" if torch.cuda.is_available() else \"cpu\")\n",
        "model = model.to(device)\n",
        "\n",
        "# Determinar la secuencia de la proteína LuxR silvestre\n",
        "WT_SEQ = (\n",
        "    \"MKNINADDTYRIINKIKACRSNNDINQCLSDMTKMVHCEYYLLAIIYPHSMVKSDISILDNYPKKWRQYYDDANLIKYDPIVDYSNSNHSPINWNIFENNAVNKKSPNVIKEAKTSGLITGFSFPIHTANNGFGMLSFAHSEKDNYIDSLFLHACMNIPLIVPSLVDNYRKINIANNKSNNDLTKREKECLAWACEGKSSWDISKILGCSERTVTFHLTNAQMKLNTTNRCQSISKAILTGAIDCPYFKN\"\n",
        ")\n",
        "\n",
        "# Definir la función de puntuaje\n",
        "def score_sequence(seq):\n",
        "    data = [(\"sequence\", seq)]\n",
        "    _, _, batch_tokens = batch_converter(data)\n",
        "    batch_tokens = batch_tokens.to(device)\n",
        "    with torch.no_grad():\n",
        "        logits = model(batch_tokens)[\"logits\"]\n",
        "    log_probs = torch.log_softmax(logits, dim=-1)\n",
        "    true_tokens = batch_tokens[:, 1:]\n",
        "    log_probs_for_true = log_probs[:, :-1, :].gather(2, true_tokens.unsqueeze(-1)).squeeze(-1)\n",
        "    return log_probs_for_true.sum(dim=1).item()\n",
        "\n",
        "# Obtener el valor de puntuación de la proteína LuxR silvestre\n",
        "wt_score = score_sequence(WT_SEQ)\n",
        "print(f\"✅ WT Score: {wt_score:.2f}\")\n",
        "\n",
        "# Cargar la puntuación de los mutantes\n",
        "df = pd.read_csv(\"single_mutants_scored.csv\")\n",
        "\n",
        "# Calcular las diferencias de puntuación entre los mutantes y el silvestre\n",
        "df[\"DeltaScore\"] = df[\"Score\"] - wt_score\n",
        "\n",
        "# Ordenar y actualizar el archivo CSV\n",
        "df.sort_values(by=\"DeltaScore\", ascending=False, inplace=True)\n",
        "df.to_csv(\"single_mutants_scored_delta.csv\", index=False)\n",
        "print(\"📁 Updated CSV saved as 'single_mutants_scored_delta.csv'\")\n",
        "\n",
        "# Guardar a formato FASTA\n",
        "with open(\"single_mutants_scored_delta.fasta\", \"w\") as f:\n",
        "    for _, row in df.iterrows():\n",
        "        header = f\">{row['Mutant']}|ΔScore:{row['DeltaScore']:.2f}\"\n",
        "        f.write(f\"{header}\\n{row['Sequence']}\\n\")\n",
        "print(\"📄 FASTA file with delta scores saved as 'single_mutants_scored_delta.fasta'\")"
      ],
      "metadata": {
        "colab": {
          "base_uri": "https://localhost:8080/"
        },
        "id": "9XEbM7kFG1sS",
        "outputId": "0bb68cff-336c-46bf-ae07-87dbe4abc26f"
      },
      "execution_count": null,
      "outputs": [
        {
          "output_type": "stream",
          "name": "stdout",
          "text": [
            "✅ WT Score: -1507.66\n",
            "📁 Updated CSV saved as 'single_mutants_scored_delta.csv'\n",
            "📄 FASTA file with delta scores saved as 'single_mutants_scored_delta.fasta'\n"
          ]
        }
      ]
    }
  ]
}